import numpy as np
import matplotlib.pyplot as plt
import pandas as pd
dataset = pd.read_csv('Salary_Data.csv')
x = dataset.iloc[:,:-1].values
y= dataset.iloc[:, -1].values
from sklearn.model_selection import train_test_split
x_train, x_test, y_train, y_test = train_test_split(x,y, test_size = 0.3)
from sklearn.linear_model import LinearRegression
new = LinearRegression()
new.fit(x_train, y_train)
plt.scatter(x_train, y_train, color = 'red')
plt.plot(x_train, new.predict(x_train), color = 'black')
plt.title('Training dataset')
plt.xlabel('Years of Experience')
plt.ylabel('Salary')
plt.show()
plt.scatter(x_test, y_test, color = 'red')
plt.plot(x_test, new.predict(x_test), color = 'black')
plt.title('Test dataset')
plt.xlabel('Years of Experience')
plt.ylabel('Salary')
plt.show()
