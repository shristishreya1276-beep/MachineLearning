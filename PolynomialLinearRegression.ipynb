# https://colab.research.google.com/drive/1aXGro74D6PwoDGb2LJeE5gNeRCIkiV0V?usp=sharing (Link for colab file)
import numpy as np
import matplotlib.pyplot as plt
import pandas as pd
dataset = pd.read_csv('Position_Salaries.csv')
x = dataset.iloc[:,1:-1].values
y = dataset.iloc[:,-1].values
from sklearn.linear_model import LinearRegression
new = LinearRegression()
new.fit(x,y)
from sklearn.preprocessing import PolynomialFeatures
new1 = PolynomialFeatures(degree = 4)
x1 = new1.fit_transform(x)
new2 = LinearRegression()
new2.fit(x1,y)
plt.scatter(x,y, color = 'red')
plt.plot(x,new.predict(x),color = 'yellow')
plt.title("Level v/s Salary")
plt.xlabel("Level")
plt.ylabel("Salary")
plt.show()
plt.scatter(x,y, color = 'red')
plt.plot(x,new2.predict(x1),color = 'yellow')
plt.title("Level v/s Salary")
plt.xlabel("Level")
plt.ylabel("Salary")
plt.show()

